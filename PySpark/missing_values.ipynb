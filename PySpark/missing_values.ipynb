{
 "cells": [
  {
   "cell_type": "code",
   "execution_count": 1,
   "metadata": {},
   "outputs": [],
   "source": [
    "from pyspark.sql import SparkSession"
   ]
  },
  {
   "cell_type": "code",
   "execution_count": 2,
   "metadata": {},
   "outputs": [],
   "source": [
    "spark = SparkSession.builder.appName(\"example_2\").getOrCreate()"
   ]
  },
  {
   "cell_type": "code",
   "execution_count": 6,
   "metadata": {},
   "outputs": [
    {
     "name": "stdout",
     "output_type": "stream",
     "text": [
      "+---------+----+----------+------+\n",
      "|     Name| Age|Experience|Salary|\n",
      "+---------+----+----------+------+\n",
      "|   Agatha|  31|        12| 30000|\n",
      "|     Beth|  32|         2| 25000|\n",
      "|  Charles|  44|        12| 20000|\n",
      "|   Damian|  23|        43| 20000|\n",
      "|    Euler|  12|        12| 15000|\n",
      "|Feuerbach|  23|        23| 18000|\n",
      "|  Gabriel|  23|        43| 40000|\n",
      "|    Henry|NULL|      NULL| 38000|\n",
      "|     NULL|  34|        10|  NULL|\n",
      "|     NULL|  36|      NULL|  NULL|\n",
      "+---------+----+----------+------+\n",
      "\n"
     ]
    }
   ],
   "source": [
    "df = spark.read.option(\"delimiter\", \";\").csv(\"example_2.csv\", header=True, inferSchema=True)\n",
    "df.show()"
   ]
  },
  {
   "cell_type": "code",
   "execution_count": 7,
   "metadata": {},
   "outputs": [
    {
     "name": "stdout",
     "output_type": "stream",
     "text": [
      "+---------+---+----------+------+\n",
      "|     Name|Age|Experience|Salary|\n",
      "+---------+---+----------+------+\n",
      "|   Agatha| 31|        12| 30000|\n",
      "|     Beth| 32|         2| 25000|\n",
      "|  Charles| 44|        12| 20000|\n",
      "|   Damian| 23|        43| 20000|\n",
      "|    Euler| 12|        12| 15000|\n",
      "|Feuerbach| 23|        23| 18000|\n",
      "|  Gabriel| 23|        43| 40000|\n",
      "+---------+---+----------+------+\n",
      "\n"
     ]
    }
   ],
   "source": [
    "df.na.drop().show()"
   ]
  },
  {
   "cell_type": "code",
   "execution_count": 8,
   "metadata": {},
   "outputs": [
    {
     "name": "stdout",
     "output_type": "stream",
     "text": [
      "+---------+----+----------+------+\n",
      "|     Name| Age|Experience|Salary|\n",
      "+---------+----+----------+------+\n",
      "|   Agatha|  31|        12| 30000|\n",
      "|     Beth|  32|         2| 25000|\n",
      "|  Charles|  44|        12| 20000|\n",
      "|   Damian|  23|        43| 20000|\n",
      "|    Euler|  12|        12| 15000|\n",
      "|Feuerbach|  23|        23| 18000|\n",
      "|  Gabriel|  23|        43| 40000|\n",
      "|    Henry|NULL|      NULL| 38000|\n",
      "|     NULL|  34|        10|  NULL|\n",
      "|     NULL|  36|      NULL|  NULL|\n",
      "+---------+----+----------+------+\n",
      "\n"
     ]
    }
   ],
   "source": [
    "df.show()"
   ]
  },
  {
   "cell_type": "code",
   "execution_count": 9,
   "metadata": {},
   "outputs": [
    {
     "name": "stdout",
     "output_type": "stream",
     "text": [
      "+---------+----+----------+------+\n",
      "|     Name| Age|Experience|Salary|\n",
      "+---------+----+----------+------+\n",
      "|   Agatha|  31|        12| 30000|\n",
      "|     Beth|  32|         2| 25000|\n",
      "|  Charles|  44|        12| 20000|\n",
      "|   Damian|  23|        43| 20000|\n",
      "|    Euler|  12|        12| 15000|\n",
      "|Feuerbach|  23|        23| 18000|\n",
      "|  Gabriel|  23|        43| 40000|\n",
      "|    Henry|NULL|      NULL| 38000|\n",
      "|     NULL|  34|        10|  NULL|\n",
      "+---------+----+----------+------+\n",
      "\n"
     ]
    }
   ],
   "source": [
    "df.na.drop(how=\"any\", thresh=2).show()"
   ]
  },
  {
   "cell_type": "code",
   "execution_count": 11,
   "metadata": {},
   "outputs": [
    {
     "name": "stdout",
     "output_type": "stream",
     "text": [
      "+---------+----+----------+------+\n",
      "|     Name| Age|Experience|Salary|\n",
      "+---------+----+----------+------+\n",
      "|   Agatha|  31|        12| 30000|\n",
      "|     Beth|  32|         2| 25000|\n",
      "|  Charles|  44|        12| 20000|\n",
      "|   Damian|  23|        43| 20000|\n",
      "|    Euler|  12|        12| 15000|\n",
      "|Feuerbach|  23|        23| 18000|\n",
      "|  Gabriel|  23|        43| 40000|\n",
      "|    Henry|NULL|      NULL| 38000|\n",
      "+---------+----+----------+------+\n",
      "\n"
     ]
    }
   ],
   "source": [
    "df.na.drop(how=\"any\", subset=[\"name\"]).show()"
   ]
  },
  {
   "cell_type": "code",
   "execution_count": 12,
   "metadata": {},
   "outputs": [
    {
     "name": "stdout",
     "output_type": "stream",
     "text": [
      "+---------+----+----------+------+\n",
      "|     Name| Age|Experience|Salary|\n",
      "+---------+----+----------+------+\n",
      "|   Agatha|  31|        12| 30000|\n",
      "|     Beth|  32|         2| 25000|\n",
      "|  Charles|  44|        12| 20000|\n",
      "|   Damian|  23|        43| 20000|\n",
      "|    Euler|  12|        12| 15000|\n",
      "|Feuerbach|  23|        23| 18000|\n",
      "|  Gabriel|  23|        43| 40000|\n",
      "|    Henry|NULL|      NULL| 38000|\n",
      "|  missing|  34|        10|  NULL|\n",
      "|  missing|  36|      NULL|  NULL|\n",
      "+---------+----+----------+------+\n",
      "\n"
     ]
    }
   ],
   "source": [
    "df.na.fill(\"missing\", subset=[\"name\"]).show()"
   ]
  },
  {
   "cell_type": "code",
   "execution_count": 13,
   "metadata": {},
   "outputs": [],
   "source": [
    "from pyspark.ml.feature import Imputer"
   ]
  },
  {
   "cell_type": "code",
   "execution_count": 27,
   "metadata": {},
   "outputs": [
    {
     "name": "stdout",
     "output_type": "stream",
     "text": [
      "+---------+----+----------+------+----------+-----------------+-------------+\n",
      "|     Name| Age|Experience|Salary|filled_Age|filled_Experience|filled_Salary|\n",
      "+---------+----+----------+------+----------+-----------------+-------------+\n",
      "|   Agatha|  31|        12| 30000|        31|               12|        30000|\n",
      "|     Beth|  32|         2| 25000|        32|                2|        25000|\n",
      "|  Charles|  44|        12| 20000|        44|               12|        20000|\n",
      "|   Damian|  23|        43| 20000|        23|               43|        20000|\n",
      "|    Euler|  12|        12| 15000|        12|               12|        15000|\n",
      "|Feuerbach|  23|        23| 18000|        23|               23|        18000|\n",
      "|  Gabriel|  23|        43| 40000|        23|               43|        40000|\n",
      "|    Henry|NULL|      NULL| 38000|        28|               19|        38000|\n",
      "|     NULL|  34|        10|  NULL|        34|               10|        25750|\n",
      "|     NULL|  36|      NULL|  NULL|        36|               19|        25750|\n",
      "+---------+----+----------+------+----------+-----------------+-------------+\n",
      "\n"
     ]
    }
   ],
   "source": [
    "imputer = Imputer(inputCols=[\"Age\", \"Experience\", \"Salary\"],\n",
    "                outputCols=[f\"filled_{col}\" for col in [\"Age\", \"Experience\", \"Salary\"]]\n",
    "                ).setStrategy(\"mean\")\n",
    "\n",
    "filled_df = imputer.fit(df).transform(df)\n",
    "filled_df.show()"
   ]
  },
  {
   "cell_type": "code",
   "execution_count": 30,
   "metadata": {},
   "outputs": [
    {
     "name": "stdout",
     "output_type": "stream",
     "text": [
      "+---------+---+----------+------+\n",
      "|     Name|Age|Experience|Salary|\n",
      "+---------+---+----------+------+\n",
      "|   Agatha| 31|        12| 30000|\n",
      "|     Beth| 32|         2| 25000|\n",
      "|  Charles| 44|        12| 20000|\n",
      "|   Damian| 23|        43| 20000|\n",
      "|    Euler| 12|        12| 15000|\n",
      "|Feuerbach| 23|        23| 18000|\n",
      "|  Gabriel| 23|        43| 40000|\n",
      "|    Henry| 28|        19| 38000|\n",
      "|  missing| 34|        10| 25750|\n",
      "|  missing| 36|        19| 25750|\n",
      "+---------+---+----------+------+\n",
      "\n"
     ]
    }
   ],
   "source": [
    "filled_df = filled_df.drop(\"Age\")\n",
    "filled_df = filled_df.drop(\"Experience\")\n",
    "filled_df = filled_df.drop(\"Salary\")\n",
    "\n",
    "filled_df = filled_df.withColumn(\"Age\", filled_df[\"filled_Age\"])\n",
    "filled_df = filled_df.withColumn(\"Experience\", filled_df[\"filled_Experience\"])\n",
    "filled_df = filled_df.withColumn(\"Salary\", filled_df[\"filled_Salary\"])\n",
    "filled_df = filled_df.na.fill(\"missing\", subset=[\"name\"])\n",
    "\n",
    "filled_df = filled_df.drop(\"filled_Age\")\n",
    "filled_df = filled_df.drop(\"filled_Experience\")\n",
    "filled_df = filled_df.drop(\"filled_Salary\")\n",
    "\n",
    "filled_df.show()"
   ]
  }
 ],
 "metadata": {
  "kernelspec": {
   "display_name": "Python 3",
   "language": "python",
   "name": "python3"
  },
  "language_info": {
   "codemirror_mode": {
    "name": "ipython",
    "version": 3
   },
   "file_extension": ".py",
   "mimetype": "text/x-python",
   "name": "python",
   "nbconvert_exporter": "python",
   "pygments_lexer": "ipython3",
   "version": "3.12.0"
  }
 },
 "nbformat": 4,
 "nbformat_minor": 2
}
