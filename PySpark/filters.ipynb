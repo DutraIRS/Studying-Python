{
 "cells": [
  {
   "cell_type": "code",
   "execution_count": 2,
   "metadata": {},
   "outputs": [],
   "source": [
    "from pyspark.sql import SparkSession"
   ]
  },
  {
   "cell_type": "code",
   "execution_count": 3,
   "metadata": {},
   "outputs": [],
   "source": [
    "spark = SparkSession.builder.appName(\"SparkSQL\").getOrCreate()"
   ]
  },
  {
   "cell_type": "code",
   "execution_count": 5,
   "metadata": {},
   "outputs": [
    {
     "name": "stdout",
     "output_type": "stream",
     "text": [
      "+---------+---+----------+------+\n",
      "|     Name|Age|Experience|Salary|\n",
      "+---------+---+----------+------+\n",
      "|   Agatha| 31|        12| 30000|\n",
      "|     Beth| 32|         2| 25000|\n",
      "|  Charles| 44|        12| 20000|\n",
      "|   Damian| 23|        43| 20000|\n",
      "|    Euler| 12|        12| 15000|\n",
      "|Feuerbach| 23|        23| 18000|\n",
      "|  Gabriel| 23|        43| 40000|\n",
      "|    Henry| 28|        19| 38000|\n",
      "|  missing| 34|        10| 25750|\n",
      "|  missing| 36|        19| 25750|\n",
      "+---------+---+----------+------+\n",
      "\n"
     ]
    }
   ],
   "source": [
    "df = spark.read.csv(\"example_3.csv\", header=True, inferSchema=True)\n",
    "df.show()"
   ]
  },
  {
   "cell_type": "code",
   "execution_count": 8,
   "metadata": {},
   "outputs": [
    {
     "name": "stdout",
     "output_type": "stream",
     "text": [
      "+---------+------+\n",
      "|     Name|Salary|\n",
      "+---------+------+\n",
      "|   Agatha| 30000|\n",
      "|     Beth| 25000|\n",
      "|  Charles| 20000|\n",
      "|   Damian| 20000|\n",
      "|Feuerbach| 18000|\n",
      "|  Gabriel| 40000|\n",
      "|    Henry| 38000|\n",
      "|  missing| 25750|\n",
      "|  missing| 25750|\n",
      "+---------+------+\n",
      "\n"
     ]
    }
   ],
   "source": [
    "df.filter(\"Age >= 18\").select([\"Name\", \"Salary\"]).show()"
   ]
  },
  {
   "cell_type": "code",
   "execution_count": 10,
   "metadata": {},
   "outputs": [
    {
     "name": "stdout",
     "output_type": "stream",
     "text": [
      "+---------+------+\n",
      "|     Name|Salary|\n",
      "+---------+------+\n",
      "|   Damian| 20000|\n",
      "|Feuerbach| 18000|\n",
      "|  Gabriel| 40000|\n",
      "|    Henry| 38000|\n",
      "+---------+------+\n",
      "\n"
     ]
    }
   ],
   "source": [
    "df.filter((df[\"Age\"] >= 18) &\n",
    "        (df[\"Age\"] <= 30)).select([\"Name\", \"Salary\"]).show()"
   ]
  },
  {
   "cell_type": "code",
   "execution_count": 11,
   "metadata": {},
   "outputs": [
    {
     "name": "stdout",
     "output_type": "stream",
     "text": [
      "+-----+------+\n",
      "| Name|Salary|\n",
      "+-----+------+\n",
      "|Euler| 15000|\n",
      "+-----+------+\n",
      "\n"
     ]
    }
   ],
   "source": [
    "df.filter(~(df[\"Age\"] >= 18)).select([\"Name\", \"Salary\"]).show()"
   ]
  }
 ],
 "metadata": {
  "kernelspec": {
   "display_name": "Python 3",
   "language": "python",
   "name": "python3"
  },
  "language_info": {
   "codemirror_mode": {
    "name": "ipython",
    "version": 3
   },
   "file_extension": ".py",
   "mimetype": "text/x-python",
   "name": "python",
   "nbconvert_exporter": "python",
   "pygments_lexer": "ipython3",
   "version": "3.12.0"
  }
 },
 "nbformat": 4,
 "nbformat_minor": 2
}
